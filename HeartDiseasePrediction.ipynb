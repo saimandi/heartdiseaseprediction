{
 "cells": [
  {
   "cell_type": "markdown",
   "id": "a2b22802",
   "metadata": {},
   "source": [
    "# Heart Disease Prediction\n",
    "\n",
    "*The purpose of this project is to predict whether or not a patient has heart disease based on a some medical metrics and factors. This may be useful to detect presence of heart disease early or at least contribute to that goal.*"
   ]
  },
  {
   "cell_type": "markdown",
   "id": "2f72205a",
   "metadata": {},
   "source": [
    "## Data Exploration\n",
    "\n",
    "We begin by importing the main Python packages intended for data exploration and visualization, as well as reading in the data as a Pandas dataframe."
   ]
  },
  {
   "cell_type": "code",
   "execution_count": 37,
   "id": "cf9aaeca",
   "metadata": {},
   "outputs": [],
   "source": [
    "import pandas as pd\n",
    "import matplotlib.pyplot as plt\n",
    "import seaborn as sns\n",
    "import numpy as np\n",
    "\n",
    "heart = pd.read_csv('heart.csv')"
   ]
  },
  {
   "cell_type": "markdown",
   "id": "defa7dda",
   "metadata": {},
   "source": [
    "Now, we are collecting the specifications of the data. We see that there are 11 columns and 918 rows. The column values have various types, some are numerical(integers and floats) and some are objects. \n",
    "\n",
    "For additional context, let's look at what the attributes represent.\n",
    "+ Age - years old\n",
    "+ Sex\n",
    "  + 'M'\n",
    "  + 'F'\n",
    "+ ChestPainType\n",
    "  + 'TA'- typical angina\n",
    "  + 'ATA' - atypical angina\n",
    "  + 'NAP' - non-anginal pain\n",
    "  + 'ASY' - asymptomatic\n",
    "+ RestingBP - resting blood pressure in mmHg\n",
    "+ Cholesterol - serum cheolsterol in mm/dl\n",
    "+ FastingBS - fasting blood sugar\n",
    "  + 1 - if FastingBS > 120 mg/dl\n",
    "  + 0 - if FastingBS <= 120 mg/dl\n",
    "+ Resting ECG - resting electrocardiogram results\n",
    "  + 'Normal' - normal\n",
    "  + 'ST' - has ST-T wave abnormality\n",
    "  + 'LVH' - showing some left ventricular hypertrophy (by Estes' criteria)\n",
    "+ MaxHR - maximum heart rate achieved in bpm\n",
    "+ Exercise Angina - exercise-induced angina\n",
    "  + 'Y' - yes\n",
    "  + 'N' - no\n",
    "+ Oldpeak - oldpeak measured in depression\n",
    "+ ST_Slope - slope of peak exercise ST segment\n",
    "  + 'Up' - upsloping\n",
    "  + 'Down' - downsloping\n",
    "  + 'Flat'- flat\n",
    "+ HeartDisease\n",
    "  + 1 - heart disease\n",
    "  + 0 - no heart disease"
   ]
  },
  {
   "cell_type": "code",
   "execution_count": 38,
   "id": "3edd74ed",
   "metadata": {},
   "outputs": [
    {
     "name": "stdout",
     "output_type": "stream",
     "text": [
      "<class 'pandas.core.frame.DataFrame'>\n",
      "RangeIndex: 918 entries, 0 to 917\n",
      "Data columns (total 12 columns):\n",
      " #   Column          Non-Null Count  Dtype  \n",
      "---  ------          --------------  -----  \n",
      " 0   Age             918 non-null    int64  \n",
      " 1   Sex             918 non-null    object \n",
      " 2   ChestPainType   918 non-null    object \n",
      " 3   RestingBP       918 non-null    int64  \n",
      " 4   Cholesterol     918 non-null    int64  \n",
      " 5   FastingBS       918 non-null    int64  \n",
      " 6   RestingECG      918 non-null    object \n",
      " 7   MaxHR           918 non-null    int64  \n",
      " 8   ExerciseAngina  918 non-null    object \n",
      " 9   Oldpeak         918 non-null    float64\n",
      " 10  ST_Slope        918 non-null    object \n",
      " 11  HeartDisease    918 non-null    int64  \n",
      "dtypes: float64(1), int64(6), object(5)\n",
      "memory usage: 86.2+ KB\n"
     ]
    }
   ],
   "source": [
    "heart.info()"
   ]
  },
  {
   "cell_type": "markdown",
   "id": "7dae7b27",
   "metadata": {},
   "source": [
    "There are no null values."
   ]
  },
  {
   "cell_type": "code",
   "execution_count": 39,
   "id": "9825c115",
   "metadata": {},
   "outputs": [
    {
     "data": {
      "text/plain": [
       "Age               0\n",
       "Sex               0\n",
       "ChestPainType     0\n",
       "RestingBP         0\n",
       "Cholesterol       0\n",
       "FastingBS         0\n",
       "RestingECG        0\n",
       "MaxHR             0\n",
       "ExerciseAngina    0\n",
       "Oldpeak           0\n",
       "ST_Slope          0\n",
       "HeartDisease      0\n",
       "dtype: int64"
      ]
     },
     "execution_count": 39,
     "metadata": {},
     "output_type": "execute_result"
    }
   ],
   "source": [
    "heart.isnull().sum()"
   ]
  },
  {
   "cell_type": "markdown",
   "id": "0f9494ad",
   "metadata": {},
   "source": [
    "### *Numerical Data Exploration*"
   ]
  },
  {
   "cell_type": "markdown",
   "id": "db33116e",
   "metadata": {},
   "source": [
    "Using the dataframe's histogram method `hist`, we can develop a grid of distributions of the numerical values by column. The `FastingBS` and `HeartDisease` columns have binary values, either 0 or 1. It appears that most of the other distributions are bell-shaped. The `Fasting BS`, `Cholesterol`, and `Oldpeak` distributions seem to have right skews."
   ]
  },
  {
   "cell_type": "code",
   "execution_count": 40,
   "id": "f9239666",
   "metadata": {},
   "outputs": [
    {
     "name": "stderr",
     "output_type": "stream",
     "text": [
      "/var/folders/bd/r6v_8_t55cs5xwf17t68zlz80000gn/T/ipykernel_92477/4167307229.py:2: UserWarning: To output multiple subplots, the figure containing the passed axes is being cleared.\n",
      "  heart.hist(bins=50, ax=ax)\n"
     ]
    },
    {
     "data": {
      "text/plain": [
       "array([[<AxesSubplot:title={'center':'Age'}>,\n",
       "        <AxesSubplot:title={'center':'RestingBP'}>,\n",
       "        <AxesSubplot:title={'center':'Cholesterol'}>],\n",
       "       [<AxesSubplot:title={'center':'FastingBS'}>,\n",
       "        <AxesSubplot:title={'center':'MaxHR'}>,\n",
       "        <AxesSubplot:title={'center':'Oldpeak'}>],\n",
       "       [<AxesSubplot:title={'center':'HeartDisease'}>, <AxesSubplot:>,\n",
       "        <AxesSubplot:>]], dtype=object)"
      ]
     },
     "execution_count": 40,
     "metadata": {},
     "output_type": "execute_result"
    },
    {
     "data": {
      "image/png": "[encoded data removed]",
      "text/plain": [
       "<Figure size 648x648 with 9 Axes>"
      ]
     },
     "metadata": {
      "needs_background": "light"
     },
     "output_type": "display_data"
    }
   ],
   "source": [
    "fig, ax = plt.subplots(figsize=(9, 9))\n",
    "heart.hist(bins=50, ax=ax)"
   ]
  },
  {
   "cell_type": "markdown",
   "id": "f8d9a620",
   "metadata": {},
   "source": [
    "We can determine exactly how drastic the right skews are using the `skew` method of the dataframe. In the below table, we find that there is a significant right skew to those three distributions, which is a good indicator that we may need to implement some sort of standardization to those columns before fitting our model. "
   ]
  },
  {
   "cell_type": "code",
   "execution_count": 41,
   "id": "4dc3dbbd",
   "metadata": {},
   "outputs": [
    {
     "name": "stderr",
     "output_type": "stream",
     "text": [
      "/var/folders/bd/r6v_8_t55cs5xwf17t68zlz80000gn/T/ipykernel_92477/339807860.py:1: FutureWarning: Dropping of nuisance columns in DataFrame reductions (with 'numeric_only=None') is deprecated; in a future version this will raise TypeError.  Select only valid columns before calling the reduction.\n",
      "  skew = heart.skew()\n"
     ]
    },
    {
     "data": {
      "text/html": [
       "<div>\n",
       "<style scoped>\n",
       "    .dataframe tbody tr th:only-of-type {\n",
       "        vertical-align: middle;\n",
       "    }\n",
       "\n",
       "    .dataframe tbody tr th {\n",
       "        vertical-align: top;\n",
       "    }\n",
       "\n",
       "    .dataframe thead th {\n",
       "        text-align: right;\n",
       "    }\n",
       "</style>\n",
       "<table border=\"1\" class=\"dataframe\">\n",
       "  <thead>\n",
       "    <tr style=\"text-align: right;\">\n",
       "      <th></th>\n",
       "      <th>Skew</th>\n",
       "    </tr>\n",
       "  </thead>\n",
       "  <tbody>\n",
       "    <tr>\n",
       "      <th>Age</th>\n",
       "      <td>-0.195933</td>\n",
       "    </tr>\n",
       "    <tr>\n",
       "      <th>RestingBP</th>\n",
       "      <td>0.179839</td>\n",
       "    </tr>\n",
       "    <tr>\n",
       "      <th>Cholesterol</th>\n",
       "      <td>-0.610086</td>\n",
       "    </tr>\n",
       "    <tr>\n",
       "      <th>FastingBS</th>\n",
       "      <td>1.264484</td>\n",
       "    </tr>\n",
       "    <tr>\n",
       "      <th>MaxHR</th>\n",
       "      <td>-0.144359</td>\n",
       "    </tr>\n",
       "    <tr>\n",
       "      <th>Oldpeak</th>\n",
       "      <td>1.022872</td>\n",
       "    </tr>\n",
       "    <tr>\n",
       "      <th>HeartDisease</th>\n",
       "      <td>-0.215086</td>\n",
       "    </tr>\n",
       "  </tbody>\n",
       "</table>\n",
       "</div>"
      ],
      "text/plain": [
       "                  Skew\n",
       "Age          -0.195933\n",
       "RestingBP     0.179839\n",
       "Cholesterol  -0.610086\n",
       "FastingBS     1.264484\n",
       "MaxHR        -0.144359\n",
       "Oldpeak       1.022872\n",
       "HeartDisease -0.215086"
      ]
     },
     "execution_count": 41,
     "metadata": {},
     "output_type": "execute_result"
    }
   ],
   "source": [
    "skew = heart.skew()\n",
    "pd.DataFrame(data=skew, columns=[\"Skew\"])\n",
    "\n",
    "# Standardize cholesterol\n",
    "# Standardize old peak\n",
    "# Split fasting BS when creating training set"
   ]
  },
  {
   "cell_type": "markdown",
   "id": "436f067c",
   "metadata": {},
   "source": [
    "For additional numerical analysis, we can generate a correlation matrix and plot it on a heatmap. It appears that our target variable, `HeartDisease`, is correlated most with `MaxHR` and `Oldpeak`. This means that these variables should probably be included in our model. Furthermore, there appears to be a strong correlation between `Age` and `MaxHR`, as well as `Cholesterol` and `FastingBS`. These introduce some multicollinearity in our model, so it could cause increased variance and overfitting."
   ]
  },
  {
   "cell_type": "code",
   "execution_count": 42,
   "id": "d5f975c0",
   "metadata": {},
   "outputs": [
    {
     "data": {
      "text/plain": [
       "<AxesSubplot:>"
      ]
     },
     "execution_count": 42,
     "metadata": {},
     "output_type": "execute_result"
    },
    {
     "data": {
      "image/png": "[encoded data removed]",
      "text/plain": [
       "<Figure size 504x504 with 2 Axes>"
      ]
     },
     "metadata": {
      "needs_background": "light"
     },
     "output_type": "display_data"
    }
   ],
   "source": [
    "mask = np.triu(heart.corr())\n",
    "fig, ax = plt.subplots(figsize=(7,7))\n",
    "sns.heatmap(data=heart.corr(), annot=True, fmt=\".2f\", ax=ax, mask=mask)"
   ]
  },
  {
   "cell_type": "markdown",
   "id": "cccc1c1c",
   "metadata": {},
   "source": [
    "### *Categorical Data Exploration*"
   ]
  },
  {
   "cell_type": "markdown",
   "id": "56544f12",
   "metadata": {},
   "source": [
    "After numerical analysis, we can take a look at the composition our data. There are more slightly more people with heart disease in the dataset than those without. There is a significant difference in the number of males and females in the dataset. "
   ]
  },
  {
   "cell_type": "code",
   "execution_count": 43,
   "id": "60e05837",
   "metadata": {},
   "outputs": [
    {
     "data": {
      "text/plain": [
       "1    508\n",
       "0    410\n",
       "Name: HeartDisease, dtype: int64"
      ]
     },
     "execution_count": 43,
     "metadata": {},
     "output_type": "execute_result"
    }
   ],
   "source": [
    "heart['HeartDisease'].value_counts()"
   ]
  },
  {
   "cell_type": "code",
   "execution_count": 44,
   "id": "d0436719",
   "metadata": {},
   "outputs": [
    {
     "data": {
      "text/plain": [
       "Sex\n",
       "F    193\n",
       "M    725\n",
       "Name: HeartDisease, dtype: int64"
      ]
     },
     "execution_count": 44,
     "metadata": {},
     "output_type": "execute_result"
    }
   ],
   "source": [
    "heart.groupby(\"Sex\")[\"HeartDisease\"].count()"
   ]
  },
  {
   "cell_type": "markdown",
   "id": "ddbeac1a",
   "metadata": {},
   "source": [
    "Comparing the average values in all numerical columns grouped by heart disease, we can see that subjects with heart disease have higher `RestingBP`, `FastingBS`, and `Oldpeak` values, and lower `Cholesterol`, and `MaxHR` values."
   ]
  },
  {
   "cell_type": "code",
   "execution_count": 45,
   "id": "68c9c71d",
   "metadata": {},
   "outputs": [
    {
     "data": {
      "text/html": [
       "<div>\n",
       "<style scoped>\n",
       "    .dataframe tbody tr th:only-of-type {\n",
       "        vertical-align: middle;\n",
       "    }\n",
       "\n",
       "    .dataframe tbody tr th {\n",
       "        vertical-align: top;\n",
       "    }\n",
       "\n",
       "    .dataframe thead th {\n",
       "        text-align: right;\n",
       "    }\n",
       "</style>\n",
       "<table border=\"1\" class=\"dataframe\">\n",
       "  <thead>\n",
       "    <tr style=\"text-align: right;\">\n",
       "      <th></th>\n",
       "      <th>RestingBP</th>\n",
       "      <th>Cholesterol</th>\n",
       "      <th>FastingBS</th>\n",
       "      <th>MaxHR</th>\n",
       "      <th>Oldpeak</th>\n",
       "    </tr>\n",
       "    <tr>\n",
       "      <th>HeartDisease</th>\n",
       "      <th></th>\n",
       "      <th></th>\n",
       "      <th></th>\n",
       "      <th></th>\n",
       "      <th></th>\n",
       "    </tr>\n",
       "  </thead>\n",
       "  <tbody>\n",
       "    <tr>\n",
       "      <th>0</th>\n",
       "      <td>130.180488</td>\n",
       "      <td>227.121951</td>\n",
       "      <td>0.107317</td>\n",
       "      <td>148.151220</td>\n",
       "      <td>0.408049</td>\n",
       "    </tr>\n",
       "    <tr>\n",
       "      <th>1</th>\n",
       "      <td>134.185039</td>\n",
       "      <td>175.940945</td>\n",
       "      <td>0.334646</td>\n",
       "      <td>127.655512</td>\n",
       "      <td>1.274213</td>\n",
       "    </tr>\n",
       "  </tbody>\n",
       "</table>\n",
       "</div>"
      ],
      "text/plain": [
       "               RestingBP  Cholesterol  FastingBS       MaxHR   Oldpeak\n",
       "HeartDisease                                                          \n",
       "0             130.180488   227.121951   0.107317  148.151220  0.408049\n",
       "1             134.185039   175.940945   0.334646  127.655512  1.274213"
      ]
     },
     "execution_count": 45,
     "metadata": {},
     "output_type": "execute_result"
    }
   ],
   "source": [
    "heart.groupby(\"HeartDisease\")[[\"RestingBP\", \"Cholesterol\", \"FastingBS\", \"MaxHR\", \"Oldpeak\"]].mean()"
   ]
  },
  {
   "cell_type": "markdown",
   "id": "aa3e2d5b",
   "metadata": {},
   "source": [
    "Grouping the dataset by `HeartDisease` and `ChestPainType`, we find the distribution is different. `ChestPainType` is separated into  Creating a `countplot` of this data displays that those with heart disease have much more 'ASY' or asymptomatic chest pain than those without heart disease.  "
   ]
  },
  {
   "cell_type": "code",
   "execution_count": 46,
   "id": "07fa6d87",
   "metadata": {},
   "outputs": [
    {
     "data": {
      "text/plain": [
       "HeartDisease  ChestPainType\n",
       "0             ASY              104\n",
       "              ATA              149\n",
       "              NAP              131\n",
       "              TA                26\n",
       "1             ASY              392\n",
       "              ATA               24\n",
       "              NAP               72\n",
       "              TA                20\n",
       "dtype: int64"
      ]
     },
     "execution_count": 46,
     "metadata": {},
     "output_type": "execute_result"
    }
   ],
   "source": [
    "heart.groupby([\"HeartDisease\", \"ChestPainType\"]).size()"
   ]
  },
  {
   "cell_type": "code",
   "execution_count": 47,
   "id": "e3c912b8",
   "metadata": {},
   "outputs": [
    {
     "data": {
      "text/plain": [
       "<AxesSubplot:xlabel='HeartDisease', ylabel='count'>"
      ]
     },
     "execution_count": 47,
     "metadata": {},
     "output_type": "execute_result"
    },
    {
     "data": {
      "image/png": "[encoded data removed]",
      "text/plain": [
       "<Figure size 432x288 with 1 Axes>"
      ]
     },
     "metadata": {
      "needs_background": "light"
     },
     "output_type": "display_data"
    }
   ],
   "source": [
    "sns.countplot(x=\"HeartDisease\", hue='ChestPainType', data=heart, palette=['red', 'blue','yellow','green'])"
   ]
  },
  {
   "cell_type": "markdown",
   "id": "1d921a2b",
   "metadata": {},
   "source": [
    "Grouping the data set by `HeartDisease` and `RestingECG` shows us that there are similar number of patients with normal `RestingECG` values in those with and without heart disease. There appear to be more heart disease patients with ST or LVH in their resting ECG's than patients without herat disease."
   ]
  },
  {
   "cell_type": "code",
   "execution_count": 48,
   "id": "b022c21d",
   "metadata": {},
   "outputs": [
    {
     "data": {
      "text/plain": [
       "HeartDisease  RestingECG\n",
       "0             LVH            82\n",
       "              Normal        267\n",
       "              ST             61\n",
       "1             LVH           106\n",
       "              Normal        285\n",
       "              ST            117\n",
       "dtype: int64"
      ]
     },
     "execution_count": 48,
     "metadata": {},
     "output_type": "execute_result"
    }
   ],
   "source": [
    "heart.groupby([\"HeartDisease\", \"RestingECG\"]).size()"
   ]
  },
  {
   "cell_type": "code",
   "execution_count": 49,
   "id": "47c41ad2",
   "metadata": {},
   "outputs": [
    {
     "data": {
      "text/plain": [
       "<AxesSubplot:xlabel='HeartDisease', ylabel='count'>"
      ]
     },
     "execution_count": 49,
     "metadata": {},
     "output_type": "execute_result"
    },
    {
     "data": {
      "image/png": "[encoded data removed]",
      "text/plain": [
       "<Figure size 432x288 with 1 Axes>"
      ]
     },
     "metadata": {
      "needs_background": "light"
     },
     "output_type": "display_data"
    }
   ],
   "source": [
    "sns.countplot(x=\"HeartDisease\", hue='RestingECG', data=heart, palette=['pink', 'brown', 'purple'])"
   ]
  },
  {
   "cell_type": "markdown",
   "id": "42402829",
   "metadata": {},
   "source": [
    "Grouping by `HeartDisease` and `ST_Slope`, we can see that many more patients with heart disease have a flat ST slope and many more patients without heart disease have an upward facing ST slope than their respective counterparts. "
   ]
  },
  {
   "cell_type": "code",
   "execution_count": 50,
   "id": "e1fd35f4",
   "metadata": {},
   "outputs": [
    {
     "data": {
      "text/plain": [
       "HeartDisease  ST_Slope\n",
       "0             Down         14\n",
       "              Flat         79\n",
       "              Up          317\n",
       "1             Down         49\n",
       "              Flat        381\n",
       "              Up           78\n",
       "Name: HeartDisease, dtype: int64"
      ]
     },
     "execution_count": 50,
     "metadata": {},
     "output_type": "execute_result"
    }
   ],
   "source": [
    "heart.groupby([\"HeartDisease\", \"ST_Slope\"])[\"HeartDisease\"].count()"
   ]
  },
  {
   "cell_type": "code",
   "execution_count": 51,
   "id": "ebbc7608",
   "metadata": {},
   "outputs": [
    {
     "data": {
      "text/plain": [
       "<AxesSubplot:xlabel='HeartDisease', ylabel='count'>"
      ]
     },
     "execution_count": 51,
     "metadata": {},
     "output_type": "execute_result"
    },
    {
     "data": {
      "image/png": "[encoded data removed]",
      "text/plain": [
       "<Figure size 432x288 with 1 Axes>"
      ]
     },
     "metadata": {
      "needs_background": "light"
     },
     "output_type": "display_data"
    }
   ],
   "source": [
    "sns.countplot(x=\"HeartDisease\", hue='ST_Slope', data=heart, palette=['yellow', 'green', 'blue'])"
   ]
  },
  {
   "cell_type": "markdown",
   "id": "b32ec573",
   "metadata": {},
   "source": [
    "Similarly, we can generate bar plots split by `HeartDisease` and `Sex` on all of our numerical columns to determine how scores differ across gender and heart disease. "
   ]
  },
  {
   "cell_type": "code",
   "execution_count": 52,
   "id": "65ab8857",
   "metadata": {},
   "outputs": [
    {
     "data": {
      "text/plain": [
       "<AxesSubplot:xlabel='HeartDisease', ylabel='RestingBP'>"
      ]
     },
     "execution_count": 52,
     "metadata": {},
     "output_type": "execute_result"
    },
    {
     "data": {
      "image/png": "[encoded data removed]",
      "text/plain": [
       "<Figure size 432x288 with 1 Axes>"
      ]
     },
     "metadata": {
      "needs_background": "light"
     },
     "output_type": "display_data"
    }
   ],
   "source": [
    "clrs=['red', 'blue']\n",
    "sns.barplot(x='HeartDisease', y='RestingBP', hue='Sex', data=heart, palette=clrs)"
   ]
  },
  {
   "cell_type": "code",
   "execution_count": 53,
   "id": "3f6f5b7a",
   "metadata": {},
   "outputs": [
    {
     "data": {
      "text/plain": [
       "<AxesSubplot:xlabel='HeartDisease', ylabel='Cholesterol'>"
      ]
     },
     "execution_count": 53,
     "metadata": {},
     "output_type": "execute_result"
    },
    {
     "data": {
      "image/png": "[encoded data removed]",
      "text/plain": [
       "<Figure size 432x288 with 1 Axes>"
      ]
     },
     "metadata": {
      "needs_background": "light"
     },
     "output_type": "display_data"
    }
   ],
   "source": [
    "clrs=['green', 'orange']\n",
    "sns.barplot(x='HeartDisease', y='Cholesterol', hue='Sex', data=heart, palette=clrs)"
   ]
  },
  {
   "cell_type": "code",
   "execution_count": 54,
   "id": "c33a653b",
   "metadata": {},
   "outputs": [
    {
     "data": {
      "text/plain": [
       "<AxesSubplot:xlabel='HeartDisease', ylabel='FastingBS'>"
      ]
     },
     "execution_count": 54,
     "metadata": {},
     "output_type": "execute_result"
    },
    {
     "data": {
      "image/png": "[encoded data removed]",
      "text/plain": [
       "<Figure size 432x288 with 1 Axes>"
      ]
     },
     "metadata": {
      "needs_background": "light"
     },
     "output_type": "display_data"
    }
   ],
   "source": [
    "clrs=['pink', 'purple']\n",
    "sns.barplot(x='HeartDisease', y='FastingBS', hue='Sex', data=heart, palette=clrs)"
   ]
  },
  {
   "cell_type": "code",
   "execution_count": 55,
   "id": "ac73aa2f",
   "metadata": {},
   "outputs": [
    {
     "data": {
      "text/plain": [
       "<AxesSubplot:xlabel='HeartDisease', ylabel='MaxHR'>"
      ]
     },
     "execution_count": 55,
     "metadata": {},
     "output_type": "execute_result"
    },
    {
     "data": {
      "image/png": "[encoded data removed]",
      "text/plain": [
       "<Figure size 432x288 with 1 Axes>"
      ]
     },
     "metadata": {
      "needs_background": "light"
     },
     "output_type": "display_data"
    }
   ],
   "source": [
    "sns.barplot(x='HeartDisease', y='MaxHR', hue='Sex', data=heart, palette=['black', 'grey'])"
   ]
  },
  {
   "cell_type": "code",
   "execution_count": 56,
   "id": "3aa32c8b",
   "metadata": {},
   "outputs": [
    {
     "data": {
      "text/plain": [
       "<AxesSubplot:xlabel='HeartDisease', ylabel='Oldpeak'>"
      ]
     },
     "execution_count": 56,
     "metadata": {},
     "output_type": "execute_result"
    },
    {
     "data": {
      "image/png": "[encoded data removed]",
      "text/plain": [
       "<Figure size 432x288 with 1 Axes>"
      ]
     },
     "metadata": {
      "needs_background": "light"
     },
     "output_type": "display_data"
    }
   ],
   "source": [
    "sns.barplot(x='HeartDisease', y='Oldpeak', hue='Sex', data=heart)"
   ]
  },
  {
   "cell_type": "markdown",
   "id": "72375721",
   "metadata": {},
   "source": [
    "### Data Analysis\n",
    "\n",
    "After exploring the data and extracting some basic information, we can begin to prepare our data for our model. Firstly, before we begin, let's split our data into training and testing set. Remember that the purpose of this analysis is to classify patients with and without heart disease using the features, `X`, so that is our target `y`. \n",
    "\n",
    "We can do this using the `train_test_split` method in the `sklearn` package. We selected 25% of our data to be used for training and 75% to be used for testing. "
   ]
  },
  {
   "cell_type": "code",
   "execution_count": 57,
   "id": "b0390ce8",
   "metadata": {},
   "outputs": [
    {
     "name": "stdout",
     "output_type": "stream",
     "text": [
      "Defaulting to user installation because normal site-packages is not writeable\n",
      "Requirement already satisfied: scikit-learn in /Users/sakeena/Library/Python/3.8/lib/python/site-packages (1.1.1)\n",
      "Requirement already satisfied: joblib>=1.0.0 in /Users/sakeena/Library/Python/3.8/lib/python/site-packages (from scikit-learn) (1.1.0)\n",
      "Requirement already satisfied: threadpoolctl>=2.0.0 in /Users/sakeena/Library/Python/3.8/lib/python/site-packages (from scikit-learn) (3.1.0)\n",
      "Requirement already satisfied: scipy>=1.3.2 in /Users/sakeena/Library/Python/3.8/lib/python/site-packages (from scikit-learn) (1.8.0)\n",
      "Requirement already satisfied: numpy>=1.17.3 in /Users/sakeena/Library/Python/3.8/lib/python/site-packages (from scikit-learn) (1.22.3)\n",
      "\u001b[33mWARNING: You are using pip version 22.0.3; however, version 22.2.1 is available.\n",
      "You should consider upgrading via the '/Library/Developer/CommandLineTools/usr/bin/python3 -m pip install --upgrade pip' command.\u001b[0m\u001b[33m\n",
      "\u001b[0m"
     ]
    }
   ],
   "source": [
    "!pip install -U scikit-learn\n",
    "\n",
    "from sklearn.preprocessing import StandardScaler"
   ]
  },
  {
   "cell_type": "code",
   "execution_count": 58,
   "id": "c7bccc8b",
   "metadata": {},
   "outputs": [],
   "source": [
    "from sklearn.model_selection import train_test_split\n",
    "\n",
    "features = ['Age', 'Sex', 'ChestPainType', 'RestingBP', 'Cholesterol', 'FastingBS', 'RestingECG', 'MaxHR', 'ExerciseAngina', 'Oldpeak', 'ST_Slope']\n",
    "X = heart.loc[:, features]\n",
    "y = heart.loc[:, ['HeartDisease']]\n",
    "\n",
    "X_train, X_test, y_train, y_test = train_test_split(X, y, random_state=42, train_size = .75)"
   ]
  },
  {
   "cell_type": "markdown",
   "id": "567a47c4",
   "metadata": {},
   "source": [
    "Now, we can begin to transform the data. Since this is a classification problem, we should begin with the LogisticRegression model, whose implementation in the `sklearn` package requires all data to be numerical. \n",
    "\n",
    "For our categorical columns, we can use encoding to convert the data to numerical. In this specific case, all of our columns do not have values that are ordinally labeled or that can be split into levels of increasing or decreasing value. Therefore, we can use one-hot encoding for each categorical column. \n",
    "\n",
    "For our numerical columns, we can apply scaling because their corresponding distributions have some skews, as identified during the data exploration phase. Here, we used standard scaling, we subtract the mean of the distribution and scale by unit variance. This results in values that are all around the same range.\n",
    "\n",
    "Below, we have created two transformers; one that uses `OneHotEncoder` on the categorical columns and one that uses `StandardScaler` on the remaining numerical columns.\n",
    "\n",
    "We then apply the transformers separately on the training data and print some information about the transformed training data set. "
   ]
  },
  {
   "cell_type": "code",
   "execution_count": 59,
   "id": "34b9e6d0",
   "metadata": {},
   "outputs": [
    {
     "name": "stdout",
     "output_type": "stream",
     "text": [
      "<class 'pandas.core.frame.DataFrame'>\n",
      "RangeIndex: 688 entries, 0 to 687\n",
      "Data columns (total 20 columns):\n",
      " #   Column                             Non-Null Count  Dtype  \n",
      "---  ------                             --------------  -----  \n",
      " 0   ss__remainder__Age                 688 non-null    float64\n",
      " 1   ss__remainder__RestingBP           688 non-null    float64\n",
      " 2   ss__remainder__Cholesterol         688 non-null    float64\n",
      " 3   ss__remainder__FastingBS           688 non-null    float64\n",
      " 4   ss__remainder__MaxHR               688 non-null    float64\n",
      " 5   ss__remainder__Oldpeak             688 non-null    float64\n",
      " 6   remainder__ohe__Sex_F              688 non-null    float64\n",
      " 7   remainder__ohe__Sex_M              688 non-null    float64\n",
      " 8   remainder__ohe__ChestPainType_ASY  688 non-null    float64\n",
      " 9   remainder__ohe__ChestPainType_ATA  688 non-null    float64\n",
      " 10  remainder__ohe__ChestPainType_NAP  688 non-null    float64\n",
      " 11  remainder__ohe__ChestPainType_TA   688 non-null    float64\n",
      " 12  remainder__ohe__RestingECG_LVH     688 non-null    float64\n",
      " 13  remainder__ohe__RestingECG_Normal  688 non-null    float64\n",
      " 14  remainder__ohe__RestingECG_ST      688 non-null    float64\n",
      " 15  remainder__ohe__ExerciseAngina_N   688 non-null    float64\n",
      " 16  remainder__ohe__ExerciseAngina_Y   688 non-null    float64\n",
      " 17  remainder__ohe__ST_Slope_Down      688 non-null    float64\n",
      " 18  remainder__ohe__ST_Slope_Flat      688 non-null    float64\n",
      " 19  remainder__ohe__ST_Slope_Up        688 non-null    float64\n",
      "dtypes: float64(20)\n",
      "memory usage: 107.6 KB\n"
     ]
    }
   ],
   "source": [
    "from sklearn.preprocessing import OneHotEncoder, StandardScaler\n",
    "from sklearn.compose import ColumnTransformer\n",
    "\n",
    "transformer1 = ColumnTransformer([\n",
    "    ('ohe', OneHotEncoder(), ['Sex', 'ChestPainType', 'RestingECG', 'ExerciseAngina', 'ST_Slope'])], \n",
    "    remainder='passthrough')\n",
    "\n",
    "transformer2 = ColumnTransformer([\n",
    "    ('ss', StandardScaler(), ['remainder__Age', 'remainder__RestingBP', 'remainder__Cholesterol', 'remainder__FastingBS', 'remainder__MaxHR', 'remainder__Oldpeak'])],\n",
    "    remainder='passthrough')\n",
    "\n",
    "\n",
    "transformed1 = transformer1.fit_transform(X_train)\n",
    "X_train_transformed = pd.DataFrame(transformed1, columns=transformer1.get_feature_names_out())\n",
    "\n",
    "transformed2 = transformer2.fit_transform(X_train_transformed)\n",
    "X_train_transformed2 = pd.DataFrame(transformed2, columns=transformer2.get_feature_names_out())\n",
    "\n",
    "X_train_transformed2.info()\n"
   ]
  },
  {
   "cell_type": "markdown",
   "id": "761060cd",
   "metadata": {},
   "source": [
    "Now, we can apply the same transformations to the testing data set."
   ]
  },
  {
   "cell_type": "code",
   "execution_count": 60,
   "id": "459469bb",
   "metadata": {},
   "outputs": [],
   "source": [
    "from sklearn.pipeline import Pipeline, make_pipeline\n",
    "from sklearn.linear_model import LogisticRegression\n",
    "\n",
    "transformed1t = transformer1.fit_transform(X_test)\n",
    "X_test_transformed = pd.DataFrame(transformed1t, columns=transformer1.get_feature_names_out())\n",
    "\n",
    "transformed2t = transformer2.fit_transform(X_test_transformed)\n",
    "X_test_transformed2 = pd.DataFrame(transformed2t, columns=transformer2.get_feature_names_out())"
   ]
  },
  {
   "cell_type": "markdown",
   "id": "cdc650f7",
   "metadata": {},
   "source": [
    "Finally, with our two datasets, we can first fit the regressor, `LogisticRegression`, to our transformed training data. Likewise, we can predict our y variable using testing data and and calculate our regressor score, which is an r^2 value. Our accuracy is around 86%, which is fair performance for our model."
   ]
  },
  {
   "cell_type": "code",
   "execution_count": 61,
   "id": "faf0a098",
   "metadata": {},
   "outputs": [
    {
     "name": "stderr",
     "output_type": "stream",
     "text": [
      "/Users/sakeena/Library/Python/3.8/lib/python/site-packages/sklearn/utils/validation.py:1111: DataConversionWarning: A column-vector y was passed when a 1d array was expected. Please change the shape of y to (n_samples, ), for example using ravel().\n",
      "  y = column_or_1d(y, warn=True)\n"
     ]
    },
    {
     "data": {
      "text/plain": [
       "0.8695652173913043"
      ]
     },
     "execution_count": 61,
     "metadata": {},
     "output_type": "execute_result"
    }
   ],
   "source": [
    "regressor = LogisticRegression()\n",
    "\n",
    "\n",
    "regressor.fit(X_train_transformed2, y_train)\n",
    "y_pred = regressor.predict(X_test_transformed2)\n",
    "regressor.score(X_test_transformed2, y_test)\n"
   ]
  },
  {
   "cell_type": "markdown",
   "id": "009a260a",
   "metadata": {},
   "source": [
    "We can take a deeper dive into our model by printing a confusion matrix. Our model correctly predicted 87 patients who have heart disease and 113 patients who do not have heart disease. In other words, our model had 87 true positives and 113 true negatives. It appears that our model incorrectly predicted 11 people to have heart disease and 19 people not to have heart disease. There are slightly more patients with heart disease in the dataset, so perhaps it might improve the accuracy of our model if more patients without heart disease are added."
   ]
  },
  {
   "cell_type": "code",
   "execution_count": 62,
   "id": "24c0a740",
   "metadata": {},
   "outputs": [
    {
     "data": {
      "text/plain": [
       "array([[ 87,  11],\n",
       "       [ 19, 113]])"
      ]
     },
     "execution_count": 62,
     "metadata": {},
     "output_type": "execute_result"
    }
   ],
   "source": [
    "from sklearn.metrics import classification_report\n",
    "\n",
    "from sklearn.metrics import confusion_matrix\n",
    "\n",
    "confusion_matrix(y_test, y_pred)\n",
    "        "
   ]
  },
  {
   "cell_type": "markdown",
   "id": "4d4060da",
   "metadata": {},
   "source": [
    "Rather than using our `train_test_split` method, we can perform cross validation to make us more confident that our model is correctly being trained on the training data. It guarantees that our model performance in this case, 86%, is not dependent on how we split our data into train and test sets. First, we concatenate our train and test set after they atr transformed."
   ]
  },
  {
   "cell_type": "code",
   "execution_count": 63,
   "id": "dc9f4318",
   "metadata": {},
   "outputs": [],
   "source": [
    "X_merged = pd.concat([X_train_transformed2,X_test_transformed2], ignore_index=True)\n",
    "y_merged = pd.concat([y_train, y_test], ignore_index=True)"
   ]
  },
  {
   "cell_type": "markdown",
   "id": "b92aef1e",
   "metadata": {},
   "source": [
    "Here, we are using k-fold cross validation with 10 folds. This means our data set is split into 10 subsets, 9 of which composes our training set and the remaining one is used as our test set. This process is run 10 times so that each subset has an opportunity to be a test set. Then, the accuracy scores of each run are averaged, which results in a k-fold cross validation score.\n",
    "\n",
    "Our performance metric here is 0.862, or 86.2% accuracy, which is similar to our initial metric."
   ]
  },
  {
   "cell_type": "code",
   "execution_count": 64,
   "id": "230f12c0",
   "metadata": {},
   "outputs": [
    {
     "name": "stdout",
     "output_type": "stream",
     "text": [
      "Accuracy: 0.862 (0.026)\n"
     ]
    }
   ],
   "source": [
    "from sklearn.model_selection import KFold\n",
    "from sklearn.model_selection import cross_val_score\n",
    "from numpy import mean\n",
    "from numpy import std\n",
    "\n",
    "cv = KFold(n_splits=10, random_state=1, shuffle=True)\n",
    "# create model\n",
    "model = LogisticRegression()\n",
    "# evaluate model\n",
    "scores = cross_val_score(model, X_merged, y_merged, scoring='accuracy', cv=cv, n_jobs=-1)\n",
    "# report performance\n",
    "print('Accuracy: %.3f (%.3f)' % (mean(scores), std(scores)))"
   ]
  }
 ],
 "metadata": {
  "kernelspec": {
   "display_name": "Python 3 (ipykernel)",
   "language": "python",
   "name": "python3"
  },
  "language_info": {
   "codemirror_mode": {
    "name": "ipython",
    "version": 3
   },
   "file_extension": ".py",
   "mimetype": "text/x-python",
   "name": "python",
   "nbconvert_exporter": "python",
   "pygments_lexer": "ipython3",
   "version": "3.8.9"
  }
 },
 "nbformat": 4,
 "nbformat_minor": 5
}
